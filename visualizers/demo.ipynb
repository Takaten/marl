{
 "cells": [
  {
   "cell_type": "code",
   "execution_count": null,
   "metadata": {},
   "outputs": [],
   "source": [
    "from IPython.display import HTML\n",
    "import csv\n",
    "import json"
   ]
  },
  {
   "cell_type": "code",
   "execution_count": null,
   "metadata": {},
   "outputs": [],
   "source": [
    "AGENT_NUM = 6\n",
    "STEPS = 200\n",
    "BASE_PATH = '../outputs/mv_simple_20181129_112431/record/episode039888'\n",
    "\n",
    "with open(BASE_PATH + '/task.log') as f:\n",
    "    task_log = list(csv.reader(f))\n",
    "\n",
    "agent_log = []\n",
    "for i in range(AGENT_NUM):\n",
    "    with open(BASE_PATH + '/agent{:03d}.log'.format(i)) as f:\n",
    "        agent_log.append(list(csv.reader(f)))\n",
    "\n",
    "tl_idx = 0\n",
    "res = []\n",
    "for s in range(STEPS):\n",
    "    info = {'ra': [], 'rt': [], 'aa': [], 'at': []}\n",
    "\n",
    "    while tl_idx < len(task_log) and int(task_log[tl_idx][0]) == s:\n",
    "        tl = list(map(int, map(float, task_log[tl_idx])))\n",
    "        if tl[2] != -1:\n",
    "            info['rt'].append([tl[3], tl[2]])\n",
    "        info['at'].append([tl[5], tl[4]])\n",
    "        tl_idx += 1\n",
    "    \n",
    "    for i in range(AGENT_NUM):\n",
    "        pal = list(map(int, map(float, agent_log[i][s]))) # todo fix s - 1, s\n",
    "        al  = list(map(int, map(float, agent_log[i][s + 1])))\n",
    "        if s != 0:\n",
    "            info['ra'].append([pal[3], pal[2]])\n",
    "        info['aa'].append([al[3], al[2]])\n",
    "\n",
    "    res.append(info)\n",
    "    \n",
    "def getDataJson():\n",
    "    print(json.dumps(res))"
   ]
  },
  {
   "cell_type": "code",
   "execution_count": null,
   "metadata": {
    "scrolled": false
   },
   "outputs": [],
   "source": [
    "HTML(filename=\"./demo.html\")"
   ]
  },
  {
   "cell_type": "markdown",
   "metadata": {},
   "source": [
    "Until this issue gets fixed: https://github.com/jupyterlab/jupyterlab/issues/5660  \n",
    "/notebooks/visualizers/demo.ipynb"
   ]
  },
  {
   "cell_type": "code",
   "execution_count": null,
   "metadata": {},
   "outputs": [],
   "source": []
  }
 ],
 "metadata": {
  "kernelspec": {
   "display_name": "Python 3",
   "language": "python",
   "name": "python3"
  },
  "language_info": {
   "codemirror_mode": {
    "name": "ipython",
    "version": 3
   },
   "file_extension": ".py",
   "mimetype": "text/x-python",
   "name": "python",
   "nbconvert_exporter": "python",
   "pygments_lexer": "ipython3",
   "version": "3.6.6"
  }
 },
 "nbformat": 4,
 "nbformat_minor": 2
}
