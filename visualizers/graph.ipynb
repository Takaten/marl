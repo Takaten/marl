{
 "cells": [
  {
   "cell_type": "code",
   "execution_count": null,
   "metadata": {},
   "outputs": [],
   "source": [
    "import os\n",
    "import sys\n",
    "import argparse\n",
    "import pandas as pd\n",
    "import numpy as np\n",
    "import matplotlib.pyplot as plt\n",
    "import seaborn as sns\n",
    "%matplotlib inline"
   ]
  },
  {
   "cell_type": "code",
   "execution_count": null,
   "metadata": {},
   "outputs": [],
   "source": [
    "def draw_reward(paths):\n",
    "    sns.set()\n",
    "    plt.figure()\n",
    "    fig, ax = plt.subplots()\n",
    "    for p, l in paths:\n",
    "        df = pd.read_csv(p + '/eval.log', dtype='float')\n",
    "        ndf = pd.DataFrame(columns=['episode', 'reward'])\n",
    "\n",
    "        for i in range(len(df) // 100):\n",
    "            ndf = ndf.append(pd.DataFrame({\n",
    "                'episode': [(i + 1) * 100],\n",
    "                'reward': [df[i * 100:(i + 1) * 100].mean()[1]]\n",
    "            }))\n",
    "        ndf.plot(ax=ax, x='episode', y='reward', label=l)\n",
    "\n",
    "    plt.ylim([0, 200])\n",
    "    plt.show()"
   ]
  },
  {
   "cell_type": "code",
   "execution_count": null,
   "metadata": {},
   "outputs": [],
   "source": [
    "paths = [\n",
    "    ['../outputs/rv_n14_v3_mem_4000_20181206_151528/', 'mem_4000'],\n",
    "    ['../outputs/rv_n14_v3_mem_40000_20181206_151546/', 'mem_40000'],\n",
    "    ['../outputs/rv_n14_v3_mem_400000_20181206_151617/', 'mem_400000']\n",
    "]\n",
    "draw_reward(paths)"
   ]
  },
  {
   "cell_type": "code",
   "execution_count": null,
   "metadata": {},
   "outputs": [],
   "source": [
    "paths = [\n",
    "    ['../outputs/rv_n14_v3_gamma_90_20181206_151747/', 'gamma_90'],\n",
    "    ['../outputs/rv_n14_v3_gamma_95_20181206_151412/', 'gamma_95'],\n",
    "    ['../outputs/rv_n14_v3_gamma_97_20181206_151449/', 'gamma_97']\n",
    "]\n",
    "draw_reward(paths)"
   ]
  },
  {
   "cell_type": "code",
   "execution_count": null,
   "metadata": {},
   "outputs": [],
   "source": [
    "def get_nrow(path):\n",
    "    df = pd.read_csv(path + '/eval.log', dtype='float')\n",
    "    return len(df)"
   ]
  },
  {
   "cell_type": "code",
   "execution_count": null,
   "metadata": {},
   "outputs": [],
   "source": [
    "def draw_heatmap(path, nrow, agent_num=6, height=20, width=20, split_ep=10000, per_row=3):\n",
    "    for i in range(nrow // split_ep):\n",
    "        print(\"Episode {:d} ~ {:d}\".format(i * split_ep + 1, (i + 1) * split_ep))\n",
    "        heatmap = np.zeros((agent_num, height, width))\n",
    "        for j in range(0, split_ep, 50):\n",
    "            e = i * split_ep + j\n",
    "            fn = path + \"/eval/episode{:06d}/task.log\".format(e)\n",
    "            task = np.loadtxt(fn, delimiter=\",\", usecols=(1, 2, 3), dtype=np.int16)\n",
    "            for t in task:\n",
    "                aid, y, x = t\n",
    "                if aid == -1:\n",
    "                    continue\n",
    "                heatmap[aid, y, x] += 1\n",
    "\n",
    "        fig, ax = plt.subplots((agent_num + per_row - 1) // per_row, per_row, sharex=True, sharey=True)\n",
    "        cbar_ax = fig.add_axes([0.91, .3, .03, .4])\n",
    "        cbar_ax.tick_params(labelsize=8)\n",
    "        for j, ax in enumerate(ax.flat):\n",
    "            sns.heatmap(heatmap[j], ax=ax, cmap='Blues', square=True,\n",
    "                        cbar=j == 0,\n",
    "                        vmin=0, vmax=50,\n",
    "                        cbar_ax=None if j else cbar_ax)\n",
    "            ax.tick_params(labelsize=8)\n",
    "        plt.tight_layout(rect=[0, 0, .9, 1])\n",
    "        plt.show()"
   ]
  },
  {
   "cell_type": "code",
   "execution_count": null,
   "metadata": {},
   "outputs": [],
   "source": []
  }
 ],
 "metadata": {
  "kernelspec": {
   "display_name": "Python 3",
   "language": "python",
   "name": "python3"
  },
  "language_info": {
   "codemirror_mode": {
    "name": "ipython",
    "version": 3
   },
   "file_extension": ".py",
   "mimetype": "text/x-python",
   "name": "python",
   "nbconvert_exporter": "python",
   "pygments_lexer": "ipython3",
   "version": "3.6.5"
  }
 },
 "nbformat": 4,
 "nbformat_minor": 2
}
