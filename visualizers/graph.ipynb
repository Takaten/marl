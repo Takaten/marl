{
 "cells": [
  {
   "cell_type": "code",
   "execution_count": 8,
   "metadata": {},
   "outputs": [],
   "source": [
    "import os\n",
    "import sys\n",
    "import argparse\n",
    "import pandas as pd\n",
    "import numpy as np\n",
    "import matplotlib.pyplot as plt\n",
    "import seaborn as sns\n",
    "%matplotlib inline"
   ]
  },
  {
   "cell_type": "code",
   "execution_count": 9,
   "metadata": {},
   "outputs": [],
   "source": [
    "def get_nrow(path):\n",
    "    df = pd.read_csv(path + '/rewards.log', dtype='float')\n",
    "    return len(df)"
   ]
  },
  {
   "cell_type": "code",
   "execution_count": 10,
   "metadata": {},
   "outputs": [],
   "source": [
    "def draw_reward(path):\n",
    "    df = pd.read_csv(path + '/rewards.log', dtype='float')\n",
    "    ndf = pd.DataFrame(columns=['episode', 'reward'])\n",
    "\n",
    "    for i in range(len(df) // 100):\n",
    "        ndf = ndf.append(pd.DataFrame({\n",
    "            'episode': [(i + 1) * 100],\n",
    "            'reward': [df[i * 100:(i + 1) * 100].mean()[1]]\n",
    "        }))\n",
    "\n",
    "    sns.set()\n",
    "    plt.figure()\n",
    "    ndf.plot(x='episode', y='reward')\n",
    "    plt.ylim([0, 200])\n",
    "    plt.show()"
   ]
  },
  {
   "cell_type": "code",
   "execution_count": 17,
   "metadata": {},
   "outputs": [],
   "source": [
    "def draw_heatmap(path, nrow, agent_num=6, height=20, width=20, split_ep=10000, per_row=3):\n",
    "    for i in range(nrow // split_ep):\n",
    "        print(\"Episode {:d} ~ {:d}\".format(i * split_ep + 1, (i + 1) * split_ep))\n",
    "        heatmap = np.zeros((agent_num, height, width))\n",
    "        for j in range(0, split_ep, 50):\n",
    "            e = i * split_ep + j\n",
    "            fn = path + \"/record/episode{:06d}/task.log\".format(e)\n",
    "            task = np.loadtxt(fn, delimiter=\",\", usecols=(1, 2, 3), dtype=np.int16)\n",
    "            for t in task:\n",
    "                aid, y, x = t\n",
    "                if aid == -1:\n",
    "                    continue\n",
    "                heatmap[aid, y, x] += 1\n",
    "\n",
    "        fig, ax = plt.subplots((agent_num + per_row - 1) // per_row, per_row, sharex=True, sharey=True)\n",
    "        cbar_ax = fig.add_axes([0.91, .3, .03, .4])\n",
    "        cbar_ax.tick_params(labelsize=8)\n",
    "        for j, ax in enumerate(ax.flat):\n",
    "            sns.heatmap(heatmap[j], ax=ax, cmap='Blues', square=True,\n",
    "                        cbar=j == 0,\n",
    "                        vmin=0, vmax=50,\n",
    "                        cbar_ax=None if j else cbar_ax)\n",
    "            ax.tick_params(labelsize=8)\n",
    "        plt.tight_layout(rect=[0, 0, .9, 1])\n",
    "        plt.show()"
   ]
  },
  {
   "cell_type": "code",
   "execution_count": 20,
   "metadata": {},
   "outputs": [
    {
     "data": {
      "text/plain": [
       "<Figure size 432x288 with 0 Axes>"
      ]
     },
     "metadata": {},
     "output_type": "display_data"
    },
    {
     "data": {
      "image/png": "[encoded data removed]",
      "text/plain": [
       "<Figure size 432x288 with 1 Axes>"
      ]
     },
     "metadata": {},
     "output_type": "display_data"
    }
   ],
   "source": [
    "path = '../marl/outputs/mv_simple_20181129_112542/'\n",
    "nrow = get_nrow(path)\n",
    "draw_reward(path)"
   ]
  },
  {
   "cell_type": "code",
   "execution_count": 16,
   "metadata": {},
   "outputs": [
    {
     "name": "stdout",
     "output_type": "stream",
     "text": [
      "Episode 1 ~ 10000\n"
     ]
    },
    {
     "ename": "TypeError",
     "evalue": "'numpy.int16' object is not iterable",
     "output_type": "error",
     "traceback": [
      "\u001b[0;31m---------------------------------------------------------------------------\u001b[0m",
      "\u001b[0;31mTypeError\u001b[0m                                 Traceback (most recent call last)",
      "\u001b[0;32m<ipython-input-16-480bffb1ff44>\u001b[0m in \u001b[0;36m<module>\u001b[0;34m\u001b[0m\n\u001b[0;32m----> 1\u001b[0;31m \u001b[0mdraw_heatmap\u001b[0m\u001b[0;34m(\u001b[0m\u001b[0mpath\u001b[0m\u001b[0;34m,\u001b[0m \u001b[0mnrow\u001b[0m\u001b[0;34m)\u001b[0m\u001b[0;34m\u001b[0m\u001b[0m\n\u001b[0m",
      "\u001b[0;32m<ipython-input-11-cdd9ba908c74>\u001b[0m in \u001b[0;36mdraw_heatmap\u001b[0;34m(path, nrow, agent_num, height, width, split_ep, per_row)\u001b[0m\n\u001b[1;32m      8\u001b[0m             \u001b[0mtask\u001b[0m \u001b[0;34m=\u001b[0m \u001b[0mnp\u001b[0m\u001b[0;34m.\u001b[0m\u001b[0mloadtxt\u001b[0m\u001b[0;34m(\u001b[0m\u001b[0mfn\u001b[0m\u001b[0;34m,\u001b[0m \u001b[0mdelimiter\u001b[0m\u001b[0;34m=\u001b[0m\u001b[0;34m\",\"\u001b[0m\u001b[0;34m,\u001b[0m \u001b[0musecols\u001b[0m\u001b[0;34m=\u001b[0m\u001b[0;34m(\u001b[0m\u001b[0;36m1\u001b[0m\u001b[0;34m,\u001b[0m \u001b[0;36m2\u001b[0m\u001b[0;34m,\u001b[0m \u001b[0;36m3\u001b[0m\u001b[0;34m)\u001b[0m\u001b[0;34m,\u001b[0m \u001b[0mdtype\u001b[0m\u001b[0;34m=\u001b[0m\u001b[0mnp\u001b[0m\u001b[0;34m.\u001b[0m\u001b[0mint16\u001b[0m\u001b[0;34m)\u001b[0m\u001b[0;34m\u001b[0m\u001b[0m\n\u001b[1;32m      9\u001b[0m             \u001b[0;32mfor\u001b[0m \u001b[0mt\u001b[0m \u001b[0;32min\u001b[0m \u001b[0mtask\u001b[0m\u001b[0;34m:\u001b[0m\u001b[0;34m\u001b[0m\u001b[0m\n\u001b[0;32m---> 10\u001b[0;31m                 \u001b[0maid\u001b[0m\u001b[0;34m,\u001b[0m \u001b[0my\u001b[0m\u001b[0;34m,\u001b[0m \u001b[0mx\u001b[0m \u001b[0;34m=\u001b[0m \u001b[0mt\u001b[0m\u001b[0;34m\u001b[0m\u001b[0m\n\u001b[0m\u001b[1;32m     11\u001b[0m                 \u001b[0;32mif\u001b[0m \u001b[0maid\u001b[0m \u001b[0;34m==\u001b[0m \u001b[0;34m-\u001b[0m\u001b[0;36m1\u001b[0m\u001b[0;34m:\u001b[0m\u001b[0;34m\u001b[0m\u001b[0m\n\u001b[1;32m     12\u001b[0m                     \u001b[0;32mcontinue\u001b[0m\u001b[0;34m\u001b[0m\u001b[0m\n",
      "\u001b[0;31mTypeError\u001b[0m: 'numpy.int16' object is not iterable"
     ]
    }
   ],
   "source": [
    "draw_heatmap(path, nrow)"
   ]
  },
  {
   "cell_type": "code",
   "execution_count": null,
   "metadata": {},
   "outputs": [],
   "source": []
  }
 ],
 "metadata": {
  "kernelspec": {
   "display_name": "Python 3",
   "language": "python",
   "name": "python3"
  },
  "language_info": {
   "codemirror_mode": {
    "name": "ipython",
    "version": 3
   },
   "file_extension": ".py",
   "mimetype": "text/x-python",
   "name": "python",
   "nbconvert_exporter": "python",
   "pygments_lexer": "ipython3",
   "version": "3.6.5"
  }
 },
 "nbformat": 4,
 "nbformat_minor": 2
}
